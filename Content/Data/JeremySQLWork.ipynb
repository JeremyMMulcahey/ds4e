{
 "metadata": {
  "name": "",
  "signature": "sha256:4ecdd46f2c8e10cf69fb9d258fe7213453e21efc00a826081ab9da8591e10d11"
 },
 "nbformat": 3,
 "nbformat_minor": 0,
 "worksheets": [
  {
   "cells": [
    {
     "cell_type": "heading",
     "level": 1,
     "metadata": {},
     "source": [
      "Documentation for learning SQL, generating the curriculum, and producing homework sets."
     ]
    },
    {
     "cell_type": "code",
     "collapsed": false,
     "input": [],
     "language": "python",
     "metadata": {},
     "outputs": []
    }
   ],
   "metadata": {}
  }
 ]
}